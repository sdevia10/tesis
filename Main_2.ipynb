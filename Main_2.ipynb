{
 "cells": [
  {
   "cell_type": "markdown",
   "metadata": {},
   "source": [
    "# Main tesis"
   ]
  },
  {
   "cell_type": "markdown",
   "metadata": {},
   "source": [
    "### Importacion de librerias"
   ]
  },
  {
   "cell_type": "code",
   "execution_count": 421,
   "metadata": {},
   "outputs": [],
   "source": [
    "## Importación librerías\n",
    "import pandas as pd\n",
    "import numpy as np\n",
    "%matplotlib inline\n",
    "import matplotlib.pyplot as plt"
   ]
  },
  {
   "cell_type": "code",
   "execution_count": 422,
   "metadata": {},
   "outputs": [],
   "source": [
    "#Creacion de clase para modificar texto de los prints\n",
    "class color:\n",
    "   PURPLE = '\\033[95m'\n",
    "   CYAN = '\\033[96m'\n",
    "   DARKCYAN = '\\033[36m'\n",
    "   BLUE = '\\033[94m'\n",
    "   GREEN = '\\033[92m'\n",
    "   YELLOW = '\\033[93m'\n",
    "   RED = '\\033[91m'\n",
    "   BOLD = '\\033[1m'\n",
    "   UNDERLINE = '\\033[4m'\n",
    "   END = '\\033[0m'"
   ]
  },
  {
   "cell_type": "markdown",
   "metadata": {},
   "source": [
    "### Lectura del archivo de datos"
   ]
  },
  {
   "cell_type": "code",
   "execution_count": 423,
   "metadata": {},
   "outputs": [
    {
     "data": {
      "text/html": [
       "<div>\n",
       "<style scoped>\n",
       "    .dataframe tbody tr th:only-of-type {\n",
       "        vertical-align: middle;\n",
       "    }\n",
       "\n",
       "    .dataframe tbody tr th {\n",
       "        vertical-align: top;\n",
       "    }\n",
       "\n",
       "    .dataframe thead th {\n",
       "        text-align: right;\n",
       "    }\n",
       "</style>\n",
       "<table border=\"1\" class=\"dataframe\">\n",
       "  <thead>\n",
       "    <tr style=\"text-align: right;\">\n",
       "      <th></th>\n",
       "      <th>Sample</th>\n",
       "      <th>Te_Verde</th>\n",
       "      <th>Te_Negro</th>\n",
       "      <th>Te_Mate</th>\n",
       "      <th>Te</th>\n",
       "      <th>Azucar</th>\n",
       "      <th>SCOBY</th>\n",
       "      <th>Liq_Ini</th>\n",
       "      <th>Brix_Ini</th>\n",
       "      <th>PH_Ini</th>\n",
       "      <th>Agua</th>\n",
       "      <th>Agua_disp</th>\n",
       "      <th>Temp</th>\n",
       "      <th>Tiempo</th>\n",
       "      <th>Brix_Out</th>\n",
       "      <th>PH_Out</th>\n",
       "    </tr>\n",
       "  </thead>\n",
       "  <tbody>\n",
       "    <tr>\n",
       "      <th>0</th>\n",
       "      <td>1</td>\n",
       "      <td>1</td>\n",
       "      <td>0</td>\n",
       "      <td>0</td>\n",
       "      <td>10.0</td>\n",
       "      <td>90</td>\n",
       "      <td>797</td>\n",
       "      <td>0.3</td>\n",
       "      <td>4.0</td>\n",
       "      <td>2.8</td>\n",
       "      <td>3.0</td>\n",
       "      <td>3.3</td>\n",
       "      <td>15.4</td>\n",
       "      <td>1</td>\n",
       "      <td>3.8</td>\n",
       "      <td>3.0</td>\n",
       "    </tr>\n",
       "    <tr>\n",
       "      <th>1</th>\n",
       "      <td>2</td>\n",
       "      <td>0</td>\n",
       "      <td>1</td>\n",
       "      <td>0</td>\n",
       "      <td>10.0</td>\n",
       "      <td>90</td>\n",
       "      <td>930</td>\n",
       "      <td>0.3</td>\n",
       "      <td>3.8</td>\n",
       "      <td>2.7</td>\n",
       "      <td>3.0</td>\n",
       "      <td>3.3</td>\n",
       "      <td>15.5</td>\n",
       "      <td>1</td>\n",
       "      <td>3.0</td>\n",
       "      <td>3.4</td>\n",
       "    </tr>\n",
       "    <tr>\n",
       "      <th>2</th>\n",
       "      <td>3</td>\n",
       "      <td>0</td>\n",
       "      <td>0</td>\n",
       "      <td>1</td>\n",
       "      <td>10.0</td>\n",
       "      <td>90</td>\n",
       "      <td>839</td>\n",
       "      <td>0.3</td>\n",
       "      <td>4.0</td>\n",
       "      <td>2.5</td>\n",
       "      <td>3.0</td>\n",
       "      <td>3.3</td>\n",
       "      <td>15.5</td>\n",
       "      <td>1</td>\n",
       "      <td>3.0</td>\n",
       "      <td>3.1</td>\n",
       "    </tr>\n",
       "    <tr>\n",
       "      <th>3</th>\n",
       "      <td>4</td>\n",
       "      <td>1</td>\n",
       "      <td>0</td>\n",
       "      <td>0</td>\n",
       "      <td>10.0</td>\n",
       "      <td>180</td>\n",
       "      <td>772</td>\n",
       "      <td>0.3</td>\n",
       "      <td>4.0</td>\n",
       "      <td>2.8</td>\n",
       "      <td>3.0</td>\n",
       "      <td>3.3</td>\n",
       "      <td>15.7</td>\n",
       "      <td>1</td>\n",
       "      <td>5.5</td>\n",
       "      <td>3.3</td>\n",
       "    </tr>\n",
       "    <tr>\n",
       "      <th>4</th>\n",
       "      <td>5</td>\n",
       "      <td>0</td>\n",
       "      <td>1</td>\n",
       "      <td>0</td>\n",
       "      <td>10.0</td>\n",
       "      <td>180</td>\n",
       "      <td>737</td>\n",
       "      <td>0.3</td>\n",
       "      <td>3.8</td>\n",
       "      <td>2.7</td>\n",
       "      <td>3.0</td>\n",
       "      <td>3.3</td>\n",
       "      <td>15.4</td>\n",
       "      <td>1</td>\n",
       "      <td>5.5</td>\n",
       "      <td>3.4</td>\n",
       "    </tr>\n",
       "  </tbody>\n",
       "</table>\n",
       "</div>"
      ],
      "text/plain": [
       "   Sample  Te_Verde  Te_Negro  Te_Mate    Te  Azucar  SCOBY  Liq_Ini  \\\n",
       "0       1         1         0        0  10.0      90    797      0.3   \n",
       "1       2         0         1        0  10.0      90    930      0.3   \n",
       "2       3         0         0        1  10.0      90    839      0.3   \n",
       "3       4         1         0        0  10.0     180    772      0.3   \n",
       "4       5         0         1        0  10.0     180    737      0.3   \n",
       "\n",
       "   Brix_Ini  PH_Ini  Agua  Agua_disp  Temp  Tiempo  Brix_Out  PH_Out  \n",
       "0       4.0     2.8   3.0        3.3  15.4       1       3.8     3.0  \n",
       "1       3.8     2.7   3.0        3.3  15.5       1       3.0     3.4  \n",
       "2       4.0     2.5   3.0        3.3  15.5       1       3.0     3.1  \n",
       "3       4.0     2.8   3.0        3.3  15.7       1       5.5     3.3  \n",
       "4       3.8     2.7   3.0        3.3  15.4       1       5.5     3.4  "
      ]
     },
     "execution_count": 423,
     "metadata": {},
     "output_type": "execute_result"
    }
   ],
   "source": [
    "archivo = 'Datos_3.xlsm'\n",
    "df = pd.read_excel(archivo)\n",
    "df.head()"
   ]
  },
  {
   "cell_type": "markdown",
   "metadata": {},
   "source": [
    "### Obtencion de datos como un array de numpy\n",
    "#### Adicionalmente se elimina la columna de 'Agua_disp'"
   ]
  },
  {
   "cell_type": "code",
   "execution_count": 424,
   "metadata": {},
   "outputs": [],
   "source": [
    "df2 = df.drop(['Agua_disp'],axis = 1)\n",
    "data_set = df2.values\n",
    "#df2.head()\n",
    "#data_set"
   ]
  },
  {
   "cell_type": "markdown",
   "metadata": {},
   "source": [
    "# Generación de red neuronal para la validación de datos - BRIX"
   ]
  },
  {
   "cell_type": "markdown",
   "metadata": {},
   "source": [
    "### Obtencion de datos de entrenamiento y de validación"
   ]
  },
  {
   "cell_type": "code",
   "execution_count": 425,
   "metadata": {},
   "outputs": [],
   "source": [
    "#Se toman como datos de entrenamiento los primeros 250 datos y se dejan como datos de validación los siguiente 110 datos\n",
    "\n",
    "X_train = data_set[0:250,1:-2]\n",
    "Y_train = data_set[0:250,-2]\n",
    "X_test = data_set[251:,1:-2]\n",
    "Y_test = data_set[251:,-2]"
   ]
  },
  {
   "cell_type": "markdown",
   "metadata": {},
   "source": [
    "### Prepocesamiento de los datos (escalamiento)"
   ]
  },
  {
   "cell_type": "code",
   "execution_count": 426,
   "metadata": {},
   "outputs": [],
   "source": [
    "# Preprocesamiento de los datos (SCALING)\n",
    "from sklearn.preprocessing import StandardScaler # importa scaler de scikit learn\n",
    "scaler = StandardScaler() #Crea el scalador\n",
    "scaler.fit(X_train) #Usa los datos de training para generar el escalamiento ** Se basa solo en los de entrenamiento\n",
    "X_train = scaler.transform(X_train) #Transforma los datos de entrenamiento\n",
    "\n",
    "#Se aplica la misma tranformación a los datos de test\n",
    "X_test = scaler.transform(X_test)\n"
   ]
  },
  {
   "cell_type": "code",
   "execution_count": 428,
   "metadata": {
    "scrolled": false
   },
   "outputs": [],
   "source": [
    "#print(X_train)\n",
    "#print(Y_train)"
   ]
  },
  {
   "cell_type": "markdown",
   "metadata": {},
   "source": [
    "#### Posible parametros de la función *MLPRegressor* de sklearn:\n",
    "* Activation Function: ‘identity’, ‘logistic’, ‘tanh’, ‘relu\n",
    "* Alpha\n",
    "* solver: ‘lbfgs’, ‘sgd’, ‘adam’\n",
    "* hidden_layer_size\n",
    "* max iteration\n"
   ]
  },
  {
   "cell_type": "code",
   "execution_count": 429,
   "metadata": {},
   "outputs": [],
   "source": [
    "# Creacion de vector para guardar el desempeño de cada combinacion\n",
    "performance = np.zeros(shape=[200,1])\n",
    "# Creacion lista con los parametros de cada valor correspondiente\n",
    "parameters = []"
   ]
  },
  {
   "cell_type": "markdown",
   "metadata": {},
   "source": [
    "### Generacion de loop para probar distintas combinaciones"
   ]
  },
  {
   "cell_type": "code",
   "execution_count": 430,
   "metadata": {
    "scrolled": true
   },
   "outputs": [
    {
     "name": "stderr",
     "output_type": "stream",
     "text": [
      "C:\\Users\\LENOVO\\Anaconda3\\lib\\site-packages\\sklearn\\neural_network\\_base.py:195: RuntimeWarning: overflow encountered in square\n",
      "  return ((y_true - y_pred) ** 2).mean() / 2\n",
      "C:\\Users\\LENOVO\\Anaconda3\\lib\\site-packages\\numpy\\core\\_methods.py:75: RuntimeWarning: invalid value encountered in reduce\n",
      "  ret = umr_sum(arr, axis, dtype, out, keepdims)\n",
      "C:\\Users\\LENOVO\\Anaconda3\\lib\\site-packages\\sklearn\\neural_network\\multilayer_perceptron.py:566: ConvergenceWarning: Stochastic Optimizer: Maximum iterations (1000) reached and the optimization hasn't converged yet.\n",
      "  % self.max_iter, ConvergenceWarning)\n",
      "C:\\Users\\LENOVO\\Anaconda3\\lib\\site-packages\\sklearn\\neural_network\\_base.py:195: RuntimeWarning: overflow encountered in square\n",
      "  return ((y_true - y_pred) ** 2).mean() / 2\n",
      "C:\\Users\\LENOVO\\Anaconda3\\lib\\site-packages\\numpy\\core\\_methods.py:75: RuntimeWarning: invalid value encountered in reduce\n",
      "  ret = umr_sum(arr, axis, dtype, out, keepdims)\n",
      "C:\\Users\\LENOVO\\Anaconda3\\lib\\site-packages\\sklearn\\neural_network\\multilayer_perceptron.py:566: ConvergenceWarning: Stochastic Optimizer: Maximum iterations (1000) reached and the optimization hasn't converged yet.\n",
      "  % self.max_iter, ConvergenceWarning)\n",
      "C:\\Users\\LENOVO\\Anaconda3\\lib\\site-packages\\sklearn\\neural_network\\_base.py:195: RuntimeWarning: overflow encountered in square\n",
      "  return ((y_true - y_pred) ** 2).mean() / 2\n",
      "C:\\Users\\LENOVO\\Anaconda3\\lib\\site-packages\\numpy\\core\\_methods.py:75: RuntimeWarning: invalid value encountered in reduce\n",
      "  ret = umr_sum(arr, axis, dtype, out, keepdims)\n",
      "C:\\Users\\LENOVO\\Anaconda3\\lib\\site-packages\\sklearn\\neural_network\\multilayer_perceptron.py:566: ConvergenceWarning: Stochastic Optimizer: Maximum iterations (1000) reached and the optimization hasn't converged yet.\n",
      "  % self.max_iter, ConvergenceWarning)\n",
      "C:\\Users\\LENOVO\\Anaconda3\\lib\\site-packages\\sklearn\\neural_network\\multilayer_perceptron.py:566: ConvergenceWarning: Stochastic Optimizer: Maximum iterations (1000) reached and the optimization hasn't converged yet.\n",
      "  % self.max_iter, ConvergenceWarning)\n",
      "C:\\Users\\LENOVO\\Anaconda3\\lib\\site-packages\\sklearn\\neural_network\\_base.py:195: RuntimeWarning: overflow encountered in square\n",
      "  return ((y_true - y_pred) ** 2).mean() / 2\n",
      "C:\\Users\\LENOVO\\Anaconda3\\lib\\site-packages\\numpy\\core\\_methods.py:75: RuntimeWarning: invalid value encountered in reduce\n",
      "  ret = umr_sum(arr, axis, dtype, out, keepdims)\n",
      "C:\\Users\\LENOVO\\Anaconda3\\lib\\site-packages\\sklearn\\neural_network\\multilayer_perceptron.py:566: ConvergenceWarning: Stochastic Optimizer: Maximum iterations (1000) reached and the optimization hasn't converged yet.\n",
      "  % self.max_iter, ConvergenceWarning)\n",
      "C:\\Users\\LENOVO\\Anaconda3\\lib\\site-packages\\sklearn\\neural_network\\multilayer_perceptron.py:566: ConvergenceWarning: Stochastic Optimizer: Maximum iterations (1000) reached and the optimization hasn't converged yet.\n",
      "  % self.max_iter, ConvergenceWarning)\n",
      "C:\\Users\\LENOVO\\Anaconda3\\lib\\site-packages\\sklearn\\neural_network\\_base.py:195: RuntimeWarning: overflow encountered in square\n",
      "  return ((y_true - y_pred) ** 2).mean() / 2\n",
      "C:\\Users\\LENOVO\\Anaconda3\\lib\\site-packages\\numpy\\core\\_methods.py:75: RuntimeWarning: invalid value encountered in reduce\n",
      "  ret = umr_sum(arr, axis, dtype, out, keepdims)\n",
      "C:\\Users\\LENOVO\\Anaconda3\\lib\\site-packages\\sklearn\\neural_network\\multilayer_perceptron.py:566: ConvergenceWarning: Stochastic Optimizer: Maximum iterations (1000) reached and the optimization hasn't converged yet.\n",
      "  % self.max_iter, ConvergenceWarning)\n",
      "C:\\Users\\LENOVO\\Anaconda3\\lib\\site-packages\\sklearn\\neural_network\\_base.py:195: RuntimeWarning: overflow encountered in square\n",
      "  return ((y_true - y_pred) ** 2).mean() / 2\n",
      "C:\\Users\\LENOVO\\Anaconda3\\lib\\site-packages\\numpy\\core\\_methods.py:75: RuntimeWarning: invalid value encountered in reduce\n",
      "  ret = umr_sum(arr, axis, dtype, out, keepdims)\n",
      "C:\\Users\\LENOVO\\Anaconda3\\lib\\site-packages\\sklearn\\neural_network\\multilayer_perceptron.py:566: ConvergenceWarning: Stochastic Optimizer: Maximum iterations (1000) reached and the optimization hasn't converged yet.\n",
      "  % self.max_iter, ConvergenceWarning)\n",
      "C:\\Users\\LENOVO\\Anaconda3\\lib\\site-packages\\sklearn\\neural_network\\_base.py:195: RuntimeWarning: overflow encountered in square\n",
      "  return ((y_true - y_pred) ** 2).mean() / 2\n",
      "C:\\Users\\LENOVO\\Anaconda3\\lib\\site-packages\\numpy\\core\\_methods.py:75: RuntimeWarning: invalid value encountered in reduce\n",
      "  ret = umr_sum(arr, axis, dtype, out, keepdims)\n",
      "C:\\Users\\LENOVO\\Anaconda3\\lib\\site-packages\\sklearn\\neural_network\\multilayer_perceptron.py:566: ConvergenceWarning: Stochastic Optimizer: Maximum iterations (1000) reached and the optimization hasn't converged yet.\n",
      "  % self.max_iter, ConvergenceWarning)\n",
      "C:\\Users\\LENOVO\\Anaconda3\\lib\\site-packages\\sklearn\\neural_network\\_base.py:195: RuntimeWarning: overflow encountered in square\n",
      "  return ((y_true - y_pred) ** 2).mean() / 2\n",
      "C:\\Users\\LENOVO\\Anaconda3\\lib\\site-packages\\numpy\\core\\_methods.py:75: RuntimeWarning: invalid value encountered in reduce\n",
      "  ret = umr_sum(arr, axis, dtype, out, keepdims)\n",
      "C:\\Users\\LENOVO\\Anaconda3\\lib\\site-packages\\sklearn\\neural_network\\multilayer_perceptron.py:566: ConvergenceWarning: Stochastic Optimizer: Maximum iterations (1000) reached and the optimization hasn't converged yet.\n",
      "  % self.max_iter, ConvergenceWarning)\n",
      "C:\\Users\\LENOVO\\Anaconda3\\lib\\site-packages\\sklearn\\neural_network\\_base.py:195: RuntimeWarning: overflow encountered in square\n",
      "  return ((y_true - y_pred) ** 2).mean() / 2\n",
      "C:\\Users\\LENOVO\\Anaconda3\\lib\\site-packages\\sklearn\\neural_network\\multilayer_perceptron.py:566: ConvergenceWarning: Stochastic Optimizer: Maximum iterations (1000) reached and the optimization hasn't converged yet.\n",
      "  % self.max_iter, ConvergenceWarning)\n",
      "C:\\Users\\LENOVO\\Anaconda3\\lib\\site-packages\\sklearn\\neural_network\\multilayer_perceptron.py:566: ConvergenceWarning: Stochastic Optimizer: Maximum iterations (1000) reached and the optimization hasn't converged yet.\n",
      "  % self.max_iter, ConvergenceWarning)\n",
      "C:\\Users\\LENOVO\\Anaconda3\\lib\\site-packages\\sklearn\\neural_network\\_base.py:195: RuntimeWarning: overflow encountered in square\n",
      "  return ((y_true - y_pred) ** 2).mean() / 2\n",
      "C:\\Users\\LENOVO\\Anaconda3\\lib\\site-packages\\sklearn\\neural_network\\multilayer_perceptron.py:566: ConvergenceWarning: Stochastic Optimizer: Maximum iterations (1000) reached and the optimization hasn't converged yet.\n",
      "  % self.max_iter, ConvergenceWarning)\n",
      "C:\\Users\\LENOVO\\Anaconda3\\lib\\site-packages\\sklearn\\neural_network\\multilayer_perceptron.py:566: ConvergenceWarning: Stochastic Optimizer: Maximum iterations (1000) reached and the optimization hasn't converged yet.\n",
      "  % self.max_iter, ConvergenceWarning)\n",
      "C:\\Users\\LENOVO\\Anaconda3\\lib\\site-packages\\sklearn\\neural_network\\_base.py:195: RuntimeWarning: overflow encountered in square\n",
      "  return ((y_true - y_pred) ** 2).mean() / 2\n",
      "C:\\Users\\LENOVO\\Anaconda3\\lib\\site-packages\\sklearn\\neural_network\\multilayer_perceptron.py:566: ConvergenceWarning: Stochastic Optimizer: Maximum iterations (1000) reached and the optimization hasn't converged yet.\n",
      "  % self.max_iter, ConvergenceWarning)\n",
      "C:\\Users\\LENOVO\\Anaconda3\\lib\\site-packages\\sklearn\\neural_network\\multilayer_perceptron.py:566: ConvergenceWarning: Stochastic Optimizer: Maximum iterations (1000) reached and the optimization hasn't converged yet.\n",
      "  % self.max_iter, ConvergenceWarning)\n",
      "C:\\Users\\LENOVO\\Anaconda3\\lib\\site-packages\\sklearn\\neural_network\\_base.py:195: RuntimeWarning: overflow encountered in square\n",
      "  return ((y_true - y_pred) ** 2).mean() / 2\n",
      "C:\\Users\\LENOVO\\Anaconda3\\lib\\site-packages\\sklearn\\neural_network\\multilayer_perceptron.py:566: ConvergenceWarning: Stochastic Optimizer: Maximum iterations (1000) reached and the optimization hasn't converged yet.\n",
      "  % self.max_iter, ConvergenceWarning)\n"
     ]
    }
   ],
   "source": [
    "lista_fun = [\"identity\",\"logistic\",\"tanh\",\"relu\"]\n",
    "lista_solver = [\"lbfgs\",\"sgd\",\"adam\"]\n",
    "lista_layer = [1,2,3,4,5,6,7,8,9,10]\n",
    "ind=0\n",
    "for fun in lista_fun:\n",
    "    for solve in lista_solver:\n",
    "        for layer in lista_layer:\n",
    "            clf = MLPRegressor(activation=fun,alpha=0.1,solver=solve,\n",
    "                               nesterovs_momentum=False, learning_rate_init=0.2,\n",
    "                               hidden_layer_sizes=(layer), random_state=1, max_iter = 1000)\n",
    "            try:\n",
    "                clf.fit(X_train,Y_train)\n",
    "                performance[ind] = clf.score(X_test,Y_test)\n",
    "                parameters.append([fun,solve,layer])\n",
    "                ind=ind+1\n",
    "                #print(ind)\n",
    "            except Exception:\n",
    "                pass\n",
    "            "
   ]
  },
  {
   "cell_type": "code",
   "execution_count": 431,
   "metadata": {
    "scrolled": true
   },
   "outputs": [],
   "source": [
    "np.set_printoptions(precision=5, suppress=True)"
   ]
  },
  {
   "cell_type": "code",
   "execution_count": 432,
   "metadata": {},
   "outputs": [
    {
     "name": "stdout",
     "output_type": "stream",
     "text": [
      "El maximo score obtenido fue: \u001b[1m0.7412532358028551\u001b[0m\n",
      "Con los parametros:  \u001b[1m['logistic', 'adam', 8]\u001b[0m\n"
     ]
    }
   ],
   "source": [
    "print('El maximo score obtenido fue:', color.BOLD + str(np.max(performance)) + color.END)\n",
    "print('Con los parametros: ', color.BOLD + str(parameters[np.argmax(performance)]) +color.END)\n"
   ]
  },
  {
   "cell_type": "code",
   "execution_count": 433,
   "metadata": {},
   "outputs": [
    {
     "data": {
      "text/plain": [
       "0.7412532358028551"
      ]
     },
     "execution_count": 433,
     "metadata": {},
     "output_type": "execute_result"
    }
   ],
   "source": [
    "clf = MLPRegressor(activation=parameters[np.argmax(performance)][0],alpha=0.1,solver=parameters[np.argmax(performance)][1],\n",
    "                   nesterovs_momentum=False, learning_rate_init=0.2,\n",
    "                   hidden_layer_sizes=parameters[np.argmax(performance)][2], random_state=1, max_iter = 1000)\n",
    "clf.fit(X_train,Y_train)\n",
    "clf.score(X_test,Y_test)"
   ]
  },
  {
   "cell_type": "code",
   "execution_count": 435,
   "metadata": {
    "scrolled": true
   },
   "outputs": [],
   "source": [
    "#clf.predict(X_test)"
   ]
  },
  {
   "cell_type": "code",
   "execution_count": 436,
   "metadata": {
    "scrolled": false
   },
   "outputs": [
    {
     "data": {
      "text/plain": [
       "0.7412532358028551"
      ]
     },
     "execution_count": 436,
     "metadata": {},
     "output_type": "execute_result"
    }
   ],
   "source": [
    "clf.score(X_test,Y_test)"
   ]
  },
  {
   "cell_type": "code",
   "execution_count": 437,
   "metadata": {
    "scrolled": true
   },
   "outputs": [
    {
     "data": {
      "image/png": "[encoded data removed]",
      "text/plain": [
       "<Figure size 1600x640 with 1 Axes>"
      ]
     },
     "metadata": {},
     "output_type": "display_data"
    }
   ],
   "source": [
    "from matplotlib.pyplot import figure\n",
    "figure(num=None, figsize=(20, 8), dpi=80, facecolor='w', edgecolor='k')\n",
    "t = np.arange(len(Y_test))\n",
    "plt.plot(t,Y_test,'ro',label='Real')\n",
    "Y_predict = clf.predict(X_test)\n",
    "plt.plot(t,Y_predict,'yo',label='Estimado')\n",
    "plt.legend()\n",
    "for i in range(len(Y_test)):\n",
    "    x1, x2 = t[i], t[i]\n",
    "    y1, y2 = Y_test[i], Y_predict[i]\n",
    "    plt.plot([x1,x2],[y1,y2],'k-')\n"
   ]
  },
  {
   "cell_type": "code",
   "execution_count": 438,
   "metadata": {},
   "outputs": [
    {
     "data": {
      "text/html": [
       "<div>\n",
       "<style scoped>\n",
       "    .dataframe tbody tr th:only-of-type {\n",
       "        vertical-align: middle;\n",
       "    }\n",
       "\n",
       "    .dataframe tbody tr th {\n",
       "        vertical-align: top;\n",
       "    }\n",
       "\n",
       "    .dataframe thead th {\n",
       "        text-align: right;\n",
       "    }\n",
       "</style>\n",
       "<table border=\"1\" class=\"dataframe\">\n",
       "  <thead>\n",
       "    <tr style=\"text-align: right;\">\n",
       "      <th></th>\n",
       "      <th></th>\n",
       "      <th>Error absoluto (°Brix)</th>\n",
       "      <th>Error porcentual(%)</th>\n",
       "    </tr>\n",
       "  </thead>\n",
       "  <tbody>\n",
       "    <tr>\n",
       "      <th>0</th>\n",
       "      <td>Promedio</td>\n",
       "      <td>0.407122</td>\n",
       "      <td>0.029476</td>\n",
       "    </tr>\n",
       "    <tr>\n",
       "      <th>1</th>\n",
       "      <td>Max</td>\n",
       "      <td>0.789618</td>\n",
       "      <td>0.099796</td>\n",
       "    </tr>\n",
       "    <tr>\n",
       "      <th>2</th>\n",
       "      <td>Min</td>\n",
       "      <td>0.052354</td>\n",
       "      <td>0.000415</td>\n",
       "    </tr>\n",
       "    <tr>\n",
       "      <th>3</th>\n",
       "      <td>Desv</td>\n",
       "      <td>0.165388</td>\n",
       "      <td>0.021755</td>\n",
       "    </tr>\n",
       "  </tbody>\n",
       "</table>\n",
       "</div>"
      ],
      "text/plain": [
       "             Error absoluto (°Brix)  Error porcentual(%)\n",
       "0  Promedio                0.407122             0.029476\n",
       "1       Max                0.789618             0.099796\n",
       "2       Min                0.052354             0.000415\n",
       "3      Desv                0.165388             0.021755"
      ]
     },
     "execution_count": 438,
     "metadata": {},
     "output_type": "execute_result"
    }
   ],
   "source": [
    "error_abs = (Y_predict-Y_test)**2\n",
    "error_abs = error**0.5\n",
    "\n",
    "error_por = np.absolute((Y_predict-Y_test))/Y_test\n",
    "\n",
    "brix_result = [['Promedio',np.average(error_abs),np.average(error_por)],['Max',np.max(error_abs),np.max(error_por)],\\\n",
    "               ['Min',np.min(error_abs),np.min(error_por)],['Desv',np.std(error_abs),np.std(error_por)]]\n",
    "brix_df = pd.DataFrame(brix_result,columns = ['','Error absoluto (°Brix)','Error porcentual(%)'])\n",
    "brix_df"
   ]
  },
  {
   "cell_type": "markdown",
   "metadata": {},
   "source": [
    "# Generación de red neuronal para la validación de datos - PH"
   ]
  },
  {
   "cell_type": "code",
   "execution_count": 439,
   "metadata": {},
   "outputs": [],
   "source": [
    "#Se toman como datos de entrenamiento los primeros 250 datos y se dejan como datos de validación los siguiente 110 datos\n",
    "\n",
    "X_train = data_set[0:250,1:-2]\n",
    "Y_train_2 = data_set[0:250,-1]\n",
    "X_test = data_set[251:,1:-2]\n",
    "Y_test_2 = data_set[251:,-1]"
   ]
  },
  {
   "cell_type": "code",
   "execution_count": 440,
   "metadata": {},
   "outputs": [],
   "source": [
    "# Creacion de vector para guardar el desempeño de cada combinacion\n",
    "performance_2 = np.zeros(shape=[200,1])\n",
    "# Creacion lista con los parametros de cada valor correspondiente\n",
    "parameters_2 = []"
   ]
  },
  {
   "cell_type": "markdown",
   "metadata": {},
   "source": [
    "### Prepocesamiento de los datos (escalamiento)"
   ]
  },
  {
   "cell_type": "code",
   "execution_count": 441,
   "metadata": {},
   "outputs": [],
   "source": [
    "# Preprocesamiento de los datos (SCALING)\n",
    "from sklearn.preprocessing import StandardScaler # importa scaler de scikit learn\n",
    "scaler = StandardScaler() #Crea el scalador\n",
    "scaler.fit(X_train) #Usa los datos de training para generar el escalamiento ** Se basa solo en los de entrenamiento\n",
    "X_train = scaler.transform(X_train) #Transforma los datos de entrenamiento\n",
    "\n",
    "#Se aplica la misma tranformación a los datos de test\n",
    "X_test = scaler.transform(X_test)\n",
    "\n",
    "\n",
    "#print(X_train)\n",
    "#print(Y_train_2)\n"
   ]
  },
  {
   "cell_type": "markdown",
   "metadata": {},
   "source": [
    "### Generacion de loop para probar distintas combinaciones"
   ]
  },
  {
   "cell_type": "code",
   "execution_count": 442,
   "metadata": {
    "scrolled": true
   },
   "outputs": [
    {
     "name": "stderr",
     "output_type": "stream",
     "text": [
      "C:\\Users\\LENOVO\\Anaconda3\\lib\\site-packages\\sklearn\\neural_network\\_base.py:195: RuntimeWarning: overflow encountered in square\n",
      "  return ((y_true - y_pred) ** 2).mean() / 2\n",
      "C:\\Users\\LENOVO\\Anaconda3\\lib\\site-packages\\numpy\\core\\_methods.py:75: RuntimeWarning: invalid value encountered in reduce\n",
      "  ret = umr_sum(arr, axis, dtype, out, keepdims)\n",
      "C:\\Users\\LENOVO\\Anaconda3\\lib\\site-packages\\sklearn\\neural_network\\multilayer_perceptron.py:566: ConvergenceWarning: Stochastic Optimizer: Maximum iterations (1000) reached and the optimization hasn't converged yet.\n",
      "  % self.max_iter, ConvergenceWarning)\n",
      "C:\\Users\\LENOVO\\Anaconda3\\lib\\site-packages\\sklearn\\neural_network\\_base.py:195: RuntimeWarning: overflow encountered in square\n",
      "  return ((y_true - y_pred) ** 2).mean() / 2\n",
      "C:\\Users\\LENOVO\\Anaconda3\\lib\\site-packages\\numpy\\core\\_methods.py:75: RuntimeWarning: invalid value encountered in reduce\n",
      "  ret = umr_sum(arr, axis, dtype, out, keepdims)\n",
      "C:\\Users\\LENOVO\\Anaconda3\\lib\\site-packages\\sklearn\\neural_network\\multilayer_perceptron.py:566: ConvergenceWarning: Stochastic Optimizer: Maximum iterations (1000) reached and the optimization hasn't converged yet.\n",
      "  % self.max_iter, ConvergenceWarning)\n",
      "C:\\Users\\LENOVO\\Anaconda3\\lib\\site-packages\\sklearn\\neural_network\\_base.py:195: RuntimeWarning: overflow encountered in square\n",
      "  return ((y_true - y_pred) ** 2).mean() / 2\n",
      "C:\\Users\\LENOVO\\Anaconda3\\lib\\site-packages\\numpy\\core\\_methods.py:75: RuntimeWarning: invalid value encountered in reduce\n",
      "  ret = umr_sum(arr, axis, dtype, out, keepdims)\n",
      "C:\\Users\\LENOVO\\Anaconda3\\lib\\site-packages\\sklearn\\neural_network\\multilayer_perceptron.py:566: ConvergenceWarning: Stochastic Optimizer: Maximum iterations (1000) reached and the optimization hasn't converged yet.\n",
      "  % self.max_iter, ConvergenceWarning)\n",
      "C:\\Users\\LENOVO\\Anaconda3\\lib\\site-packages\\sklearn\\neural_network\\_base.py:195: RuntimeWarning: overflow encountered in square\n",
      "  return ((y_true - y_pred) ** 2).mean() / 2\n",
      "C:\\Users\\LENOVO\\Anaconda3\\lib\\site-packages\\numpy\\core\\_methods.py:75: RuntimeWarning: invalid value encountered in reduce\n",
      "  ret = umr_sum(arr, axis, dtype, out, keepdims)\n",
      "C:\\Users\\LENOVO\\Anaconda3\\lib\\site-packages\\sklearn\\neural_network\\multilayer_perceptron.py:566: ConvergenceWarning: Stochastic Optimizer: Maximum iterations (1000) reached and the optimization hasn't converged yet.\n",
      "  % self.max_iter, ConvergenceWarning)\n",
      "C:\\Users\\LENOVO\\Anaconda3\\lib\\site-packages\\sklearn\\neural_network\\multilayer_perceptron.py:566: ConvergenceWarning: Stochastic Optimizer: Maximum iterations (1000) reached and the optimization hasn't converged yet.\n",
      "  % self.max_iter, ConvergenceWarning)\n"
     ]
    }
   ],
   "source": [
    "lista_fun = [\"identity\",\"logistic\",\"tanh\",\"relu\"]\n",
    "lista_solver = [\"lbfgs\",\"sgd\",\"adam\"]\n",
    "lista_layer = [1,2,3,4,5,6,7,8,9,10]\n",
    "ind=0\n",
    "for fun in lista_fun:\n",
    "    for solve in lista_solver:\n",
    "        for layer in lista_layer:\n",
    "            clf = MLPRegressor(activation=fun,alpha=0.1,solver=solve,\n",
    "                               nesterovs_momentum=False, learning_rate_init=0.2,\n",
    "                               hidden_layer_sizes=(layer), random_state=1, max_iter = 1000)\n",
    "            try:\n",
    "                clf.fit(X_train,Y_train_2)\n",
    "                performance_2[ind] = clf.score(X_test,Y_test_2)\n",
    "                parameters_2.append([fun,solve,layer])\n",
    "                ind=ind+1\n",
    "                #print(ind)\n",
    "            except Exception:\n",
    "                pass\n",
    "            "
   ]
  },
  {
   "cell_type": "code",
   "execution_count": 443,
   "metadata": {},
   "outputs": [
    {
     "name": "stdout",
     "output_type": "stream",
     "text": [
      "El maximo score obtenido fue: \u001b[1m0.6998788902838442\u001b[0m\n",
      "Con los parametros:  \u001b[1m['relu', 'lbfgs', 5]\u001b[0m\n"
     ]
    }
   ],
   "source": [
    "print('El maximo score obtenido fue:', color.BOLD + str(np.max(performance_2)) + color.END)\n",
    "print('Con los parametros: ', color.BOLD + str(parameters_2[np.argmax(performance_2)]) +color.END)\n"
   ]
  },
  {
   "cell_type": "code",
   "execution_count": 450,
   "metadata": {},
   "outputs": [
    {
     "data": {
      "text/plain": [
       "89"
      ]
     },
     "execution_count": 450,
     "metadata": {},
     "output_type": "execute_result"
    }
   ],
   "source": [
    "np.argmax(performance_2)"
   ]
  },
  {
   "cell_type": "code",
   "execution_count": 449,
   "metadata": {},
   "outputs": [
    {
     "data": {
      "text/plain": [
       "[['identity', 'lbfgs', 1],\n",
       " ['identity', 'lbfgs', 2],\n",
       " ['identity', 'lbfgs', 3],\n",
       " ['identity', 'lbfgs', 4],\n",
       " ['identity', 'lbfgs', 5],\n",
       " ['identity', 'lbfgs', 6],\n",
       " ['identity', 'lbfgs', 7],\n",
       " ['identity', 'lbfgs', 8],\n",
       " ['identity', 'lbfgs', 9],\n",
       " ['identity', 'lbfgs', 10],\n",
       " ['identity', 'sgd', 3],\n",
       " ['identity', 'sgd', 4],\n",
       " ['identity', 'sgd', 6],\n",
       " ['identity', 'sgd', 8],\n",
       " ['identity', 'sgd', 9],\n",
       " ['identity', 'adam', 1],\n",
       " ['identity', 'adam', 2],\n",
       " ['identity', 'adam', 3],\n",
       " ['identity', 'adam', 4],\n",
       " ['identity', 'adam', 5],\n",
       " ['identity', 'adam', 6],\n",
       " ['identity', 'adam', 7],\n",
       " ['identity', 'adam', 8],\n",
       " ['identity', 'adam', 9],\n",
       " ['identity', 'adam', 10],\n",
       " ['logistic', 'lbfgs', 1],\n",
       " ['logistic', 'lbfgs', 2],\n",
       " ['logistic', 'lbfgs', 3],\n",
       " ['logistic', 'lbfgs', 4],\n",
       " ['logistic', 'lbfgs', 5],\n",
       " ['logistic', 'lbfgs', 6],\n",
       " ['logistic', 'lbfgs', 7],\n",
       " ['logistic', 'lbfgs', 8],\n",
       " ['logistic', 'lbfgs', 9],\n",
       " ['logistic', 'lbfgs', 10],\n",
       " ['logistic', 'sgd', 1],\n",
       " ['logistic', 'sgd', 2],\n",
       " ['logistic', 'sgd', 3],\n",
       " ['logistic', 'sgd', 4],\n",
       " ['logistic', 'sgd', 5],\n",
       " ['logistic', 'sgd', 6],\n",
       " ['logistic', 'sgd', 7],\n",
       " ['logistic', 'sgd', 8],\n",
       " ['logistic', 'sgd', 9],\n",
       " ['logistic', 'sgd', 10],\n",
       " ['logistic', 'adam', 1],\n",
       " ['logistic', 'adam', 2],\n",
       " ['logistic', 'adam', 3],\n",
       " ['logistic', 'adam', 4],\n",
       " ['logistic', 'adam', 5],\n",
       " ['logistic', 'adam', 6],\n",
       " ['logistic', 'adam', 7],\n",
       " ['logistic', 'adam', 8],\n",
       " ['logistic', 'adam', 9],\n",
       " ['logistic', 'adam', 10],\n",
       " ['tanh', 'lbfgs', 1],\n",
       " ['tanh', 'lbfgs', 2],\n",
       " ['tanh', 'lbfgs', 3],\n",
       " ['tanh', 'lbfgs', 4],\n",
       " ['tanh', 'lbfgs', 5],\n",
       " ['tanh', 'lbfgs', 6],\n",
       " ['tanh', 'lbfgs', 7],\n",
       " ['tanh', 'lbfgs', 8],\n",
       " ['tanh', 'lbfgs', 9],\n",
       " ['tanh', 'lbfgs', 10],\n",
       " ['tanh', 'sgd', 1],\n",
       " ['tanh', 'sgd', 2],\n",
       " ['tanh', 'sgd', 3],\n",
       " ['tanh', 'sgd', 4],\n",
       " ['tanh', 'sgd', 5],\n",
       " ['tanh', 'sgd', 6],\n",
       " ['tanh', 'sgd', 7],\n",
       " ['tanh', 'sgd', 8],\n",
       " ['tanh', 'sgd', 9],\n",
       " ['tanh', 'sgd', 10],\n",
       " ['tanh', 'adam', 1],\n",
       " ['tanh', 'adam', 2],\n",
       " ['tanh', 'adam', 3],\n",
       " ['tanh', 'adam', 4],\n",
       " ['tanh', 'adam', 5],\n",
       " ['tanh', 'adam', 6],\n",
       " ['tanh', 'adam', 7],\n",
       " ['tanh', 'adam', 8],\n",
       " ['tanh', 'adam', 9],\n",
       " ['tanh', 'adam', 10],\n",
       " ['relu', 'lbfgs', 1],\n",
       " ['relu', 'lbfgs', 2],\n",
       " ['relu', 'lbfgs', 3],\n",
       " ['relu', 'lbfgs', 4],\n",
       " ['relu', 'lbfgs', 5],\n",
       " ['relu', 'lbfgs', 6],\n",
       " ['relu', 'lbfgs', 7],\n",
       " ['relu', 'lbfgs', 8],\n",
       " ['relu', 'lbfgs', 9],\n",
       " ['relu', 'lbfgs', 10],\n",
       " ['relu', 'sgd', 1],\n",
       " ['relu', 'sgd', 2],\n",
       " ['relu', 'sgd', 3],\n",
       " ['relu', 'sgd', 4],\n",
       " ['relu', 'sgd', 5],\n",
       " ['relu', 'sgd', 6],\n",
       " ['relu', 'sgd', 7],\n",
       " ['relu', 'sgd', 8],\n",
       " ['relu', 'sgd', 9],\n",
       " ['relu', 'sgd', 10],\n",
       " ['relu', 'adam', 1],\n",
       " ['relu', 'adam', 2],\n",
       " ['relu', 'adam', 3],\n",
       " ['relu', 'adam', 4],\n",
       " ['relu', 'adam', 5],\n",
       " ['relu', 'adam', 6],\n",
       " ['relu', 'adam', 7],\n",
       " ['relu', 'adam', 8],\n",
       " ['relu', 'adam', 9],\n",
       " ['relu', 'adam', 10]]"
      ]
     },
     "execution_count": 449,
     "metadata": {},
     "output_type": "execute_result"
    }
   ],
   "source": [
    "parameters_2"
   ]
  },
  {
   "cell_type": "code",
   "execution_count": 454,
   "metadata": {},
   "outputs": [
    {
     "data": {
      "text/plain": [
       "0.6998788902838442"
      ]
     },
     "execution_count": 454,
     "metadata": {},
     "output_type": "execute_result"
    }
   ],
   "source": [
    "clf = MLPRegressor(activation=parameters_2[np.argmax(performance_2)][0],alpha=0.1,solver=parameters_2[np.argmax(performance_2)][1],\n",
    "                   nesterovs_momentum=False, learning_rate_init=0.2,\n",
    "                   hidden_layer_sizes=parameters_2[np.argmax(performance_2)][2], random_state=1, max_iter = 1000)\n",
    "clf.fit(X_train,Y_train_2)\n",
    "clf.score(X_test,Y_test_2)"
   ]
  },
  {
   "cell_type": "code",
   "execution_count": 457,
   "metadata": {
    "scrolled": true
   },
   "outputs": [
    {
     "data": {
      "image/png": "[encoded data removed]",
      "text/plain": [
       "<Figure size 1200x400 with 1 Axes>"
      ]
     },
     "metadata": {},
     "output_type": "display_data"
    }
   ],
   "source": [
    "from matplotlib.pyplot import figure\n",
    "figure(num=None, figsize=(15, 5), dpi=80, facecolor='w', edgecolor='k')\n",
    "t = np.arange(len(Y_test_2))\n",
    "plt.plot(t,Y_test_2,'ro',label='Real')\n",
    "Y_predict = clf.predict(X_test)\n",
    "plt.plot(t,Y_predict,'yo',label='Estimado')\n",
    "plt.legend()\n",
    "for i in range(len(Y_test_2)):\n",
    "    x1, x2 = t[i], t[i]\n",
    "    y1, y2 = Y_test_2[i], Y_predict[i]\n",
    "    plt.plot([x1,x2],[y1,y2],'k-')\n",
    "plt.savefig('ph_graph.png')"
   ]
  },
  {
   "cell_type": "code",
   "execution_count": 453,
   "metadata": {},
   "outputs": [
    {
     "data": {
      "text/html": [
       "<div>\n",
       "<style scoped>\n",
       "    .dataframe tbody tr th:only-of-type {\n",
       "        vertical-align: middle;\n",
       "    }\n",
       "\n",
       "    .dataframe tbody tr th {\n",
       "        vertical-align: top;\n",
       "    }\n",
       "\n",
       "    .dataframe thead th {\n",
       "        text-align: right;\n",
       "    }\n",
       "</style>\n",
       "<table border=\"1\" class=\"dataframe\">\n",
       "  <thead>\n",
       "    <tr style=\"text-align: right;\">\n",
       "      <th></th>\n",
       "      <th></th>\n",
       "      <th>Error absoluto (pH)</th>\n",
       "      <th>Error porcentual(%)</th>\n",
       "    </tr>\n",
       "  </thead>\n",
       "  <tbody>\n",
       "    <tr>\n",
       "      <th>0</th>\n",
       "      <td>Promedio</td>\n",
       "      <td>0.407122</td>\n",
       "      <td>0.024948</td>\n",
       "    </tr>\n",
       "    <tr>\n",
       "      <th>1</th>\n",
       "      <td>Max</td>\n",
       "      <td>0.789618</td>\n",
       "      <td>0.090339</td>\n",
       "    </tr>\n",
       "    <tr>\n",
       "      <th>2</th>\n",
       "      <td>Min</td>\n",
       "      <td>0.052354</td>\n",
       "      <td>0.000422</td>\n",
       "    </tr>\n",
       "    <tr>\n",
       "      <th>3</th>\n",
       "      <td>Desv</td>\n",
       "      <td>0.165388</td>\n",
       "      <td>0.017250</td>\n",
       "    </tr>\n",
       "  </tbody>\n",
       "</table>\n",
       "</div>"
      ],
      "text/plain": [
       "             Error absoluto (pH)  Error porcentual(%)\n",
       "0  Promedio             0.407122             0.024948\n",
       "1       Max             0.789618             0.090339\n",
       "2       Min             0.052354             0.000422\n",
       "3      Desv             0.165388             0.017250"
      ]
     },
     "execution_count": 453,
     "metadata": {},
     "output_type": "execute_result"
    }
   ],
   "source": [
    "error_abs = (Y_predict-Y_test_2)**2\n",
    "error_abs = error**0.5\n",
    "\n",
    "error_por = np.absolute((Y_predict-Y_test_2))/Y_test_2\n",
    "\n",
    "ph_result = [['Promedio',np.average(error_abs),np.average(error_por)],['Max',np.max(error_abs),np.max(error_por)],\\\n",
    "               ['Min',np.min(error_abs),np.min(error_por)],['Desv',np.std(error_abs),np.std(error_por)]]\n",
    "ph_df = pd.DataFrame(ph_result,columns = ['','Error absoluto (pH)','Error porcentual(%)'])\n",
    "ph_df"
   ]
  },
  {
   "cell_type": "code",
   "execution_count": null,
   "metadata": {},
   "outputs": [],
   "source": []
  },
  {
   "cell_type": "code",
   "execution_count": null,
   "metadata": {},
   "outputs": [],
   "source": []
  }
 ],
 "metadata": {
  "kernelspec": {
   "display_name": "Python 3",
   "language": "python",
   "name": "python3"
  },
  "language_info": {
   "codemirror_mode": {
    "name": "ipython",
    "version": 3
   },
   "file_extension": ".py",
   "mimetype": "text/x-python",
   "name": "python",
   "nbconvert_exporter": "python",
   "pygments_lexer": "ipython3",
   "version": "3.7.3"
  }
 },
 "nbformat": 4,
 "nbformat_minor": 2
}
